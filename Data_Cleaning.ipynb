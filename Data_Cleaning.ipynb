{
 "cells": [
  {
   "cell_type": "markdown",
   "id": "c38ec6d4",
   "metadata": {},
   "source": [
    "__Importing Libraries__"
   ]
  },
  {
   "cell_type": "code",
   "execution_count": 1,
   "id": "07bf2154",
   "metadata": {},
   "outputs": [],
   "source": [
    "import pandas as pd\n",
    "import numpy as np"
   ]
  },
  {
   "cell_type": "code",
   "execution_count": 2,
   "id": "093a4ebc",
   "metadata": {},
   "outputs": [],
   "source": [
    "import warnings\n",
    "warnings.filterwarnings('ignore')"
   ]
  },
  {
   "cell_type": "markdown",
   "id": "d6bf112b",
   "metadata": {},
   "source": [
    "## Loading Glassdoor Jobs data into a dataframe "
   ]
  },
  {
   "cell_type": "code",
   "execution_count": 3,
   "id": "8297e59c",
   "metadata": {
    "scrolled": true
   },
   "outputs": [
    {
     "data": {
      "text/html": [
       "<div>\n",
       "<style scoped>\n",
       "    .dataframe tbody tr th:only-of-type {\n",
       "        vertical-align: middle;\n",
       "    }\n",
       "\n",
       "    .dataframe tbody tr th {\n",
       "        vertical-align: top;\n",
       "    }\n",
       "\n",
       "    .dataframe thead th {\n",
       "        text-align: right;\n",
       "    }\n",
       "</style>\n",
       "<table border=\"1\" class=\"dataframe\">\n",
       "  <thead>\n",
       "    <tr style=\"text-align: right;\">\n",
       "      <th></th>\n",
       "      <th>Unnamed: 0</th>\n",
       "      <th>Job Title</th>\n",
       "      <th>Salary Estimate</th>\n",
       "      <th>Job Description</th>\n",
       "      <th>Rating</th>\n",
       "      <th>Company Name</th>\n",
       "      <th>Location</th>\n",
       "      <th>Headquarters</th>\n",
       "      <th>Size</th>\n",
       "      <th>Founded</th>\n",
       "      <th>Type of ownership</th>\n",
       "      <th>Industry</th>\n",
       "      <th>Sector</th>\n",
       "      <th>Revenue</th>\n",
       "      <th>Competitors</th>\n",
       "    </tr>\n",
       "  </thead>\n",
       "  <tbody>\n",
       "    <tr>\n",
       "      <th>0</th>\n",
       "      <td>0</td>\n",
       "      <td>Data Scientist</td>\n",
       "      <td>$53K-$91K (Glassdoor est.)</td>\n",
       "      <td>Data Scientist\\nLocation: Albuquerque, NM\\nEdu...</td>\n",
       "      <td>3.8</td>\n",
       "      <td>Tecolote Research\\n3.8</td>\n",
       "      <td>Albuquerque, NM</td>\n",
       "      <td>Goleta, CA</td>\n",
       "      <td>501 to 1000 employees</td>\n",
       "      <td>1973</td>\n",
       "      <td>Company - Private</td>\n",
       "      <td>Aerospace &amp; Defense</td>\n",
       "      <td>Aerospace &amp; Defense</td>\n",
       "      <td>$50 to $100 million (USD)</td>\n",
       "      <td>-1</td>\n",
       "    </tr>\n",
       "    <tr>\n",
       "      <th>1</th>\n",
       "      <td>1</td>\n",
       "      <td>Healthcare Data Scientist</td>\n",
       "      <td>$63K-$112K (Glassdoor est.)</td>\n",
       "      <td>What You Will Do:\\n\\nI. General Summary\\n\\nThe...</td>\n",
       "      <td>3.4</td>\n",
       "      <td>University of Maryland Medical System\\n3.4</td>\n",
       "      <td>Linthicum, MD</td>\n",
       "      <td>Baltimore, MD</td>\n",
       "      <td>10000+ employees</td>\n",
       "      <td>1984</td>\n",
       "      <td>Other Organization</td>\n",
       "      <td>Health Care Services &amp; Hospitals</td>\n",
       "      <td>Health Care</td>\n",
       "      <td>$2 to $5 billion (USD)</td>\n",
       "      <td>-1</td>\n",
       "    </tr>\n",
       "    <tr>\n",
       "      <th>2</th>\n",
       "      <td>2</td>\n",
       "      <td>Data Scientist</td>\n",
       "      <td>$80K-$90K (Glassdoor est.)</td>\n",
       "      <td>KnowBe4, Inc. is a high growth information sec...</td>\n",
       "      <td>4.8</td>\n",
       "      <td>KnowBe4\\n4.8</td>\n",
       "      <td>Clearwater, FL</td>\n",
       "      <td>Clearwater, FL</td>\n",
       "      <td>501 to 1000 employees</td>\n",
       "      <td>2010</td>\n",
       "      <td>Company - Private</td>\n",
       "      <td>Security Services</td>\n",
       "      <td>Business Services</td>\n",
       "      <td>$100 to $500 million (USD)</td>\n",
       "      <td>-1</td>\n",
       "    </tr>\n",
       "    <tr>\n",
       "      <th>3</th>\n",
       "      <td>3</td>\n",
       "      <td>Data Scientist</td>\n",
       "      <td>$56K-$97K (Glassdoor est.)</td>\n",
       "      <td>*Organization and Job ID**\\nJob ID: 310709\\n\\n...</td>\n",
       "      <td>3.8</td>\n",
       "      <td>PNNL\\n3.8</td>\n",
       "      <td>Richland, WA</td>\n",
       "      <td>Richland, WA</td>\n",
       "      <td>1001 to 5000 employees</td>\n",
       "      <td>1965</td>\n",
       "      <td>Government</td>\n",
       "      <td>Energy</td>\n",
       "      <td>Oil, Gas, Energy &amp; Utilities</td>\n",
       "      <td>$500 million to $1 billion (USD)</td>\n",
       "      <td>Oak Ridge National Laboratory, National Renewa...</td>\n",
       "    </tr>\n",
       "    <tr>\n",
       "      <th>4</th>\n",
       "      <td>4</td>\n",
       "      <td>Data Scientist</td>\n",
       "      <td>$86K-$143K (Glassdoor est.)</td>\n",
       "      <td>Data Scientist\\nAffinity Solutions / Marketing...</td>\n",
       "      <td>2.9</td>\n",
       "      <td>Affinity Solutions\\n2.9</td>\n",
       "      <td>New York, NY</td>\n",
       "      <td>New York, NY</td>\n",
       "      <td>51 to 200 employees</td>\n",
       "      <td>1998</td>\n",
       "      <td>Company - Private</td>\n",
       "      <td>Advertising &amp; Marketing</td>\n",
       "      <td>Business Services</td>\n",
       "      <td>Unknown / Non-Applicable</td>\n",
       "      <td>Commerce Signals, Cardlytics, Yodlee</td>\n",
       "    </tr>\n",
       "    <tr>\n",
       "      <th>...</th>\n",
       "      <td>...</td>\n",
       "      <td>...</td>\n",
       "      <td>...</td>\n",
       "      <td>...</td>\n",
       "      <td>...</td>\n",
       "      <td>...</td>\n",
       "      <td>...</td>\n",
       "      <td>...</td>\n",
       "      <td>...</td>\n",
       "      <td>...</td>\n",
       "      <td>...</td>\n",
       "      <td>...</td>\n",
       "      <td>...</td>\n",
       "      <td>...</td>\n",
       "      <td>...</td>\n",
       "    </tr>\n",
       "    <tr>\n",
       "      <th>951</th>\n",
       "      <td>951</td>\n",
       "      <td>Senior Data Engineer</td>\n",
       "      <td>$72K-$133K (Glassdoor est.)</td>\n",
       "      <td>THE CHALLENGE\\nEventbrite has a world-class da...</td>\n",
       "      <td>4.4</td>\n",
       "      <td>Eventbrite\\n4.4</td>\n",
       "      <td>Nashville, TN</td>\n",
       "      <td>San Francisco, CA</td>\n",
       "      <td>1001 to 5000 employees</td>\n",
       "      <td>2006</td>\n",
       "      <td>Company - Public</td>\n",
       "      <td>Internet</td>\n",
       "      <td>Information Technology</td>\n",
       "      <td>$100 to $500 million (USD)</td>\n",
       "      <td>See Tickets, TicketWeb, Vendini</td>\n",
       "    </tr>\n",
       "    <tr>\n",
       "      <th>952</th>\n",
       "      <td>952</td>\n",
       "      <td>Project Scientist - Auton Lab, Robotics Institute</td>\n",
       "      <td>$56K-$91K (Glassdoor est.)</td>\n",
       "      <td>The Auton Lab at Carnegie Mellon University is...</td>\n",
       "      <td>2.6</td>\n",
       "      <td>Software Engineering Institute\\n2.6</td>\n",
       "      <td>Pittsburgh, PA</td>\n",
       "      <td>Pittsburgh, PA</td>\n",
       "      <td>501 to 1000 employees</td>\n",
       "      <td>1984</td>\n",
       "      <td>College / University</td>\n",
       "      <td>Colleges &amp; Universities</td>\n",
       "      <td>Education</td>\n",
       "      <td>Unknown / Non-Applicable</td>\n",
       "      <td>-1</td>\n",
       "    </tr>\n",
       "    <tr>\n",
       "      <th>953</th>\n",
       "      <td>953</td>\n",
       "      <td>Data Science Manager</td>\n",
       "      <td>$95K-$160K (Glassdoor est.)</td>\n",
       "      <td>Data Science ManagerResponsibilities:\\n\\nOvers...</td>\n",
       "      <td>3.2</td>\n",
       "      <td>Numeric, LLC\\n3.2</td>\n",
       "      <td>Allentown, PA</td>\n",
       "      <td>Chadds Ford, PA</td>\n",
       "      <td>1 to 50 employees</td>\n",
       "      <td>-1</td>\n",
       "      <td>Company - Private</td>\n",
       "      <td>Staffing &amp; Outsourcing</td>\n",
       "      <td>Business Services</td>\n",
       "      <td>$5 to $10 million (USD)</td>\n",
       "      <td>-1</td>\n",
       "    </tr>\n",
       "    <tr>\n",
       "      <th>954</th>\n",
       "      <td>954</td>\n",
       "      <td>Data Engineer</td>\n",
       "      <td>-1</td>\n",
       "      <td>Loading...\\n\\nTitle: Data Engineer\\n\\nLocation...</td>\n",
       "      <td>4.8</td>\n",
       "      <td>IGNW\\n4.8</td>\n",
       "      <td>Austin, TX</td>\n",
       "      <td>Portland, OR</td>\n",
       "      <td>201 to 500 employees</td>\n",
       "      <td>2015</td>\n",
       "      <td>Company - Private</td>\n",
       "      <td>IT Services</td>\n",
       "      <td>Information Technology</td>\n",
       "      <td>$25 to $50 million (USD)</td>\n",
       "      <td>Slalom</td>\n",
       "    </tr>\n",
       "    <tr>\n",
       "      <th>955</th>\n",
       "      <td>955</td>\n",
       "      <td>Research Scientist – Security and Privacy</td>\n",
       "      <td>$61K-$126K (Glassdoor est.)</td>\n",
       "      <td>Returning Candidate? Log back in to the Career...</td>\n",
       "      <td>3.6</td>\n",
       "      <td>Riverside Research Institute\\n3.6</td>\n",
       "      <td>Beavercreek, OH</td>\n",
       "      <td>Arlington, VA</td>\n",
       "      <td>501 to 1000 employees</td>\n",
       "      <td>1967</td>\n",
       "      <td>Nonprofit Organization</td>\n",
       "      <td>Federal Agencies</td>\n",
       "      <td>Government</td>\n",
       "      <td>$50 to $100 million (USD)</td>\n",
       "      <td>-1</td>\n",
       "    </tr>\n",
       "  </tbody>\n",
       "</table>\n",
       "<p>956 rows × 15 columns</p>\n",
       "</div>"
      ],
      "text/plain": [
       "     Unnamed: 0                                          Job Title  \\\n",
       "0             0                                     Data Scientist   \n",
       "1             1                          Healthcare Data Scientist   \n",
       "2             2                                     Data Scientist   \n",
       "3             3                                     Data Scientist   \n",
       "4             4                                     Data Scientist   \n",
       "..          ...                                                ...   \n",
       "951         951                               Senior Data Engineer   \n",
       "952         952  Project Scientist - Auton Lab, Robotics Institute   \n",
       "953         953                               Data Science Manager   \n",
       "954         954                                      Data Engineer   \n",
       "955         955          Research Scientist – Security and Privacy   \n",
       "\n",
       "                 Salary Estimate  \\\n",
       "0     $53K-$91K (Glassdoor est.)   \n",
       "1    $63K-$112K (Glassdoor est.)   \n",
       "2     $80K-$90K (Glassdoor est.)   \n",
       "3     $56K-$97K (Glassdoor est.)   \n",
       "4    $86K-$143K (Glassdoor est.)   \n",
       "..                           ...   \n",
       "951  $72K-$133K (Glassdoor est.)   \n",
       "952   $56K-$91K (Glassdoor est.)   \n",
       "953  $95K-$160K (Glassdoor est.)   \n",
       "954                           -1   \n",
       "955  $61K-$126K (Glassdoor est.)   \n",
       "\n",
       "                                       Job Description  Rating  \\\n",
       "0    Data Scientist\\nLocation: Albuquerque, NM\\nEdu...     3.8   \n",
       "1    What You Will Do:\\n\\nI. General Summary\\n\\nThe...     3.4   \n",
       "2    KnowBe4, Inc. is a high growth information sec...     4.8   \n",
       "3    *Organization and Job ID**\\nJob ID: 310709\\n\\n...     3.8   \n",
       "4    Data Scientist\\nAffinity Solutions / Marketing...     2.9   \n",
       "..                                                 ...     ...   \n",
       "951  THE CHALLENGE\\nEventbrite has a world-class da...     4.4   \n",
       "952  The Auton Lab at Carnegie Mellon University is...     2.6   \n",
       "953  Data Science ManagerResponsibilities:\\n\\nOvers...     3.2   \n",
       "954  Loading...\\n\\nTitle: Data Engineer\\n\\nLocation...     4.8   \n",
       "955  Returning Candidate? Log back in to the Career...     3.6   \n",
       "\n",
       "                                   Company Name         Location  \\\n",
       "0                        Tecolote Research\\n3.8  Albuquerque, NM   \n",
       "1    University of Maryland Medical System\\n3.4    Linthicum, MD   \n",
       "2                                  KnowBe4\\n4.8   Clearwater, FL   \n",
       "3                                     PNNL\\n3.8     Richland, WA   \n",
       "4                       Affinity Solutions\\n2.9     New York, NY   \n",
       "..                                          ...              ...   \n",
       "951                             Eventbrite\\n4.4    Nashville, TN   \n",
       "952         Software Engineering Institute\\n2.6   Pittsburgh, PA   \n",
       "953                           Numeric, LLC\\n3.2    Allentown, PA   \n",
       "954                                   IGNW\\n4.8       Austin, TX   \n",
       "955           Riverside Research Institute\\n3.6  Beavercreek, OH   \n",
       "\n",
       "          Headquarters                    Size  Founded  \\\n",
       "0           Goleta, CA   501 to 1000 employees     1973   \n",
       "1        Baltimore, MD        10000+ employees     1984   \n",
       "2       Clearwater, FL   501 to 1000 employees     2010   \n",
       "3         Richland, WA  1001 to 5000 employees     1965   \n",
       "4         New York, NY     51 to 200 employees     1998   \n",
       "..                 ...                     ...      ...   \n",
       "951  San Francisco, CA  1001 to 5000 employees     2006   \n",
       "952     Pittsburgh, PA   501 to 1000 employees     1984   \n",
       "953    Chadds Ford, PA       1 to 50 employees       -1   \n",
       "954       Portland, OR    201 to 500 employees     2015   \n",
       "955      Arlington, VA   501 to 1000 employees     1967   \n",
       "\n",
       "          Type of ownership                          Industry  \\\n",
       "0         Company - Private               Aerospace & Defense   \n",
       "1        Other Organization  Health Care Services & Hospitals   \n",
       "2         Company - Private                 Security Services   \n",
       "3                Government                            Energy   \n",
       "4         Company - Private           Advertising & Marketing   \n",
       "..                      ...                               ...   \n",
       "951        Company - Public                          Internet   \n",
       "952    College / University           Colleges & Universities   \n",
       "953       Company - Private            Staffing & Outsourcing   \n",
       "954       Company - Private                       IT Services   \n",
       "955  Nonprofit Organization                  Federal Agencies   \n",
       "\n",
       "                           Sector                           Revenue  \\\n",
       "0             Aerospace & Defense         $50 to $100 million (USD)   \n",
       "1                     Health Care            $2 to $5 billion (USD)   \n",
       "2               Business Services        $100 to $500 million (USD)   \n",
       "3    Oil, Gas, Energy & Utilities  $500 million to $1 billion (USD)   \n",
       "4               Business Services          Unknown / Non-Applicable   \n",
       "..                            ...                               ...   \n",
       "951        Information Technology        $100 to $500 million (USD)   \n",
       "952                     Education          Unknown / Non-Applicable   \n",
       "953             Business Services           $5 to $10 million (USD)   \n",
       "954        Information Technology          $25 to $50 million (USD)   \n",
       "955                    Government         $50 to $100 million (USD)   \n",
       "\n",
       "                                           Competitors  \n",
       "0                                                   -1  \n",
       "1                                                   -1  \n",
       "2                                                   -1  \n",
       "3    Oak Ridge National Laboratory, National Renewa...  \n",
       "4                 Commerce Signals, Cardlytics, Yodlee  \n",
       "..                                                 ...  \n",
       "951                    See Tickets, TicketWeb, Vendini  \n",
       "952                                                 -1  \n",
       "953                                                 -1  \n",
       "954                                             Slalom  \n",
       "955                                                 -1  \n",
       "\n",
       "[956 rows x 15 columns]"
      ]
     },
     "execution_count": 3,
     "metadata": {},
     "output_type": "execute_result"
    }
   ],
   "source": [
    "data = pd.read_csv('glassdoor_jobs.csv')\n",
    "data"
   ]
  },
  {
   "cell_type": "code",
   "execution_count": 4,
   "id": "c47df029",
   "metadata": {},
   "outputs": [
    {
     "data": {
      "text/plain": [
       "(956, 15)"
      ]
     },
     "execution_count": 4,
     "metadata": {},
     "output_type": "execute_result"
    }
   ],
   "source": [
    "data.shape"
   ]
  },
  {
   "cell_type": "markdown",
   "id": "5444e6dd",
   "metadata": {},
   "source": [
    "## Data Cleaning"
   ]
  },
  {
   "cell_type": "markdown",
   "id": "2211cf57",
   "metadata": {},
   "source": [
    "- Here, 'Salary Estimate' attribute should contain only integer values to visualize more "
   ]
  },
  {
   "cell_type": "code",
   "execution_count": 5,
   "id": "fb854aab",
   "metadata": {},
   "outputs": [
    {
     "data": {
      "text/plain": [
       "0       $53K-$91K (Glassdoor est.)\n",
       "1      $63K-$112K (Glassdoor est.)\n",
       "2       $80K-$90K (Glassdoor est.)\n",
       "3       $56K-$97K (Glassdoor est.)\n",
       "4      $86K-$143K (Glassdoor est.)\n",
       "                  ...             \n",
       "951    $72K-$133K (Glassdoor est.)\n",
       "952     $56K-$91K (Glassdoor est.)\n",
       "953    $95K-$160K (Glassdoor est.)\n",
       "954                             -1\n",
       "955    $61K-$126K (Glassdoor est.)\n",
       "Name: Salary Estimate, Length: 956, dtype: object"
      ]
     },
     "execution_count": 5,
     "metadata": {},
     "output_type": "execute_result"
    }
   ],
   "source": [
    "# Salary Parsing\n",
    "sal = data['Salary Estimate']\n",
    "sal"
   ]
  },
  {
   "cell_type": "markdown",
   "id": "d59b3846",
   "metadata": {},
   "source": [
    "- As it contains '-1' values, we need to drop them"
   ]
  },
  {
   "cell_type": "code",
   "execution_count": 6,
   "id": "4a914f13",
   "metadata": {
    "scrolled": true
   },
   "outputs": [],
   "source": [
    "data = data[~(data['Salary Estimate']=='-1')]"
   ]
  },
  {
   "cell_type": "code",
   "execution_count": 7,
   "id": "4745ae9e",
   "metadata": {},
   "outputs": [
    {
     "data": {
      "text/plain": [
       "(742, 15)"
      ]
     },
     "execution_count": 7,
     "metadata": {},
     "output_type": "execute_result"
    }
   ],
   "source": [
    "data.shape"
   ]
  },
  {
   "cell_type": "code",
   "execution_count": 8,
   "id": "ea968dbf",
   "metadata": {},
   "outputs": [
    {
     "data": {
      "text/plain": [
       "array(['$53K-$91K (Glassdoor est.)', '$63K-$112K (Glassdoor est.)',\n",
       "       '$80K-$90K (Glassdoor est.)', '$56K-$97K (Glassdoor est.)',\n",
       "       '$86K-$143K (Glassdoor est.)', '$71K-$119K (Glassdoor est.)',\n",
       "       '$54K-$93K (Glassdoor est.)', '$86K-$142K (Glassdoor est.)',\n",
       "       '$38K-$84K (Glassdoor est.)', '$120K-$160K (Glassdoor est.)',\n",
       "       '$126K-$201K (Glassdoor est.)', '$64K-$106K (Glassdoor est.)',\n",
       "       '$106K-$172K (Glassdoor est.)', '$46K-$85K (Glassdoor est.)',\n",
       "       '$83K-$144K (Glassdoor est.)', '$102K-$190K (Glassdoor est.)',\n",
       "       '$67K-$137K (Glassdoor est.)', '$118K-$189K (Glassdoor est.)',\n",
       "       '$110K-$175K (Glassdoor est.)', '$64K-$111K (Glassdoor est.)',\n",
       "       '$81K-$130K (Glassdoor est.)', '$73K-$119K (Glassdoor est.)',\n",
       "       '$86K-$139K (Glassdoor est.)', '$63K-$105K (Glassdoor est.)',\n",
       "       '$109K-$177K (Glassdoor est.)', '$63K-$110K (Glassdoor est.)',\n",
       "       '$75K-$124K (Glassdoor est.)', '$34K-$61K (Glassdoor est.)',\n",
       "       '$72K-$120K (Glassdoor est.)', '$93K-$149K (Glassdoor est.)',\n",
       "       '$85K-$140K (Glassdoor est.)', '$77K-$135K (Glassdoor est.)',\n",
       "       '$82K-$132K (Glassdoor est.)', '$83K-$137K (Glassdoor est.)',\n",
       "       '$115K-$180K (Glassdoor est.)', '$74K-$138K (Glassdoor est.)',\n",
       "       '$64K-$112K (Glassdoor est.)', '$68K-$129K (Glassdoor est.)',\n",
       "       '$52K-$113K (Glassdoor est.)', '$110K-$150K(Employer est.)',\n",
       "       'Employer Provided Salary:$150K-$160K',\n",
       "       '$158K-$211K (Glassdoor est.)', '$20K-$39K (Glassdoor est.)',\n",
       "       '$56K-$117K (Glassdoor est.)', '$63K-$99K (Glassdoor est.)',\n",
       "       '$68K-$114K (Glassdoor est.)', '$41K-$95K (Glassdoor est.)',\n",
       "       '$86K-$144K (Glassdoor est.)', '$80K-$139K (Glassdoor est.)',\n",
       "       '$56K-$95K (Glassdoor est.)', '$120K-$189K (Glassdoor est.)',\n",
       "       '$111K-$176K (Glassdoor est.)', '$84K-$146K (Glassdoor est.)',\n",
       "       '$107K-$172K (Glassdoor est.)', '$49K-$85K (Glassdoor est.)',\n",
       "       '$61K-$109K (Glassdoor est.)', '$88K-$148K (Glassdoor est.)',\n",
       "       '$60K-$99K (Glassdoor est.)', '$41K-$72K (Glassdoor est.)',\n",
       "       '$96K-$161K (Glassdoor est.)', '$65K-$130K (Glassdoor est.)',\n",
       "       '$52K-$81K (Glassdoor est.)', '$139K-$220K (Glassdoor est.)',\n",
       "       '$50K-$102K (Glassdoor est.)', '$85K-$139K (Glassdoor est.)',\n",
       "       '$74K-$122K (Glassdoor est.)', '$99K-$157K (Glassdoor est.)',\n",
       "       '$79K-$222K (Glassdoor est.)', '$57K-$118K (Glassdoor est.)',\n",
       "       '$86K-$141K (Glassdoor est.)', '$94K-$154K (Glassdoor est.)',\n",
       "       '$37K-$76K (Glassdoor est.)', '$100K-$160K (Glassdoor est.)',\n",
       "       '$55K-$100K (Glassdoor est.)', '$60K-$114K (Glassdoor est.)',\n",
       "       '$39K-$68K (Glassdoor est.)', '$64K-$107K (Glassdoor est.)',\n",
       "       '$31K-$65K (Glassdoor est.)', '$34K-$62K (Glassdoor est.)',\n",
       "       '$117K-$231K (Glassdoor est.)', '$79K-$134K (Glassdoor est.)',\n",
       "       '$52K-$93K (Glassdoor est.)', '$55K-$116K (Glassdoor est.)',\n",
       "       '$72K-$123K (Glassdoor est.)', '$74K-$124K (Glassdoor est.)',\n",
       "       '$40K-$73K (Glassdoor est.)', '$102K-$164K (Glassdoor est.)',\n",
       "       '$89K-$153K (Glassdoor est.)', '$61K-$110K (Glassdoor est.)',\n",
       "       '$65K-$110K (Glassdoor est.)', '$200K-$275K(Employer est.)',\n",
       "       '$68K-$123K (Glassdoor est.)', '$80K-$129K (Glassdoor est.)',\n",
       "       '$39K-$71K (Glassdoor est.)', '$38K-$85K (Glassdoor est.)',\n",
       "       '$121K-$193K (Glassdoor est.)', '$54K-$102K (Glassdoor est.)',\n",
       "       '$102K-$163K (Glassdoor est.)', '$76K-$140K (Glassdoor est.)',\n",
       "       '$60K-$101K (Glassdoor est.)', '$82K-$133K (Glassdoor est.)',\n",
       "       '$65K-$125K (Glassdoor est.)', '$91K-$148K (Glassdoor est.)',\n",
       "       '$95K-$173K (Glassdoor est.)', '$77K-$124K (Glassdoor est.)',\n",
       "       '$80K-$135K (Glassdoor est.)', '$85K-$159K (Glassdoor est.)',\n",
       "       '$80K-$105K(Employer est.)', '$43K-$81K (Glassdoor est.)',\n",
       "       '$29K-$50K (Glassdoor est.)', '$26K-$55K (Glassdoor est.)',\n",
       "       '$61K-$118K (Glassdoor est.)', '$60K-$102K (Glassdoor est.)',\n",
       "       '$112K-$182K (Glassdoor est.)', '$51K-$112K (Glassdoor est.)',\n",
       "       '$113K-$223K (Glassdoor est.)', '$72K-$129K (Glassdoor est.)',\n",
       "       '$71K-$123K (Glassdoor est.)',\n",
       "       'Employer Provided Salary:$120K-$145K',\n",
       "       '$80K-$120K (Glassdoor est.)', '$80K-$130K (Glassdoor est.)',\n",
       "       '$59K-$115K (Glassdoor est.)', '$71K-$136K (Glassdoor est.)',\n",
       "       '$81K-$167K (Glassdoor est.)', '$71K-$204K (Glassdoor est.)',\n",
       "       '$75K-$125K (Glassdoor est.)', '$77K-$136K (Glassdoor est.)',\n",
       "       '$74K-$123K (Glassdoor est.)', '$44K-$78K (Glassdoor est.)',\n",
       "       '$65K-$148K (Glassdoor est.)', '$59K-$110K (Glassdoor est.)',\n",
       "       '$85K-$134K (Glassdoor est.)', '$124K-$204K (Glassdoor est.)',\n",
       "       '$131K-$207K (Glassdoor est.)', '$110K-$174K (Glassdoor est.)',\n",
       "       '$52K-$101K (Glassdoor est.)', '$81K-$133K (Glassdoor est.)',\n",
       "       '$132K-$211K (Glassdoor est.)', '$74K-$140K (Glassdoor est.)',\n",
       "       '$100K-$190K (Glassdoor est.)', '$43K-$80K (Glassdoor est.)',\n",
       "       '$17-$24 Per Hour(Glassdoor est.)', '$91K-$149K (Glassdoor est.)',\n",
       "       '$42K-$82K (Glassdoor est.)', '$116K-$185K (Glassdoor est.)',\n",
       "       '$59K-$116K (Glassdoor est.)', '$48K-$95K (Glassdoor est.)',\n",
       "       '$31K-$72K (Glassdoor est.)', '$105K-$198K (Glassdoor est.)',\n",
       "       '$98K-$182K (Glassdoor est.)', '$73K-$124K (Glassdoor est.)',\n",
       "       'Employer Provided Salary:$200K-$250K',\n",
       "       '$21-$34 Per Hour(Glassdoor est.)', '$117K-$206K (Glassdoor est.)',\n",
       "       '$111K-$183K (Glassdoor est.)', '$81K-$159K (Glassdoor est.)',\n",
       "       '$83K-$166K (Glassdoor est.)', '$114K-$182K (Glassdoor est.)',\n",
       "       '$42K-$76K (Glassdoor est.)', '$114K-$179K (Glassdoor est.)',\n",
       "       '$60K-$123K (Glassdoor est.)', '$100K-$166K (Glassdoor est.)',\n",
       "       '$108K-$173K (Glassdoor est.)', '$48K-$93K (Glassdoor est.)',\n",
       "       '$54K-$115K (Glassdoor est.)', '$60K-$127K (Glassdoor est.)',\n",
       "       '$90K-$179K (Glassdoor est.)', '$138K-$224K (Glassdoor est.)',\n",
       "       '$190K-$220K(Employer est.)', '$35K-$62K (Glassdoor est.)',\n",
       "       '$18-$25 Per Hour(Glassdoor est.)', '$39K-$66K (Glassdoor est.)',\n",
       "       '$42K-$86K (Glassdoor est.)', '$69K-$127K (Glassdoor est.)',\n",
       "       '$40K-$68K (Glassdoor est.)', '$49K-$113K (Glassdoor est.)',\n",
       "       '$75K-$140K (Glassdoor est.)', '$66K-$112K (Glassdoor est.)',\n",
       "       '$76K-$125K (Glassdoor est.)', '$44K-$86K (Glassdoor est.)',\n",
       "       '$15-$25 Per Hour(Glassdoor est.)', '$53K-$92K (Glassdoor est.)',\n",
       "       '$65K-$120K (Glassdoor est.)', '$60K-$103K (Glassdoor est.)',\n",
       "       '$53K-$105K (Glassdoor est.)', '$33K-$62K (Glassdoor est.)',\n",
       "       '$48K-$90K (Glassdoor est.)', '$34K-$64K (Glassdoor est.)',\n",
       "       '$66K-$111K (Glassdoor est.)', '$91K-$138K (Glassdoor est.)',\n",
       "       '$62K-$114K (Glassdoor est.)', '$71K-$129K (Glassdoor est.)',\n",
       "       '$74K-$119K (Glassdoor est.)', '$55K-$97K (Glassdoor est.)',\n",
       "       '$15K-$16K(Employer est.)', '$61K-$106K (Glassdoor est.)',\n",
       "       '$127K-$199K (Glassdoor est.)', '$74K-$126K (Glassdoor est.)',\n",
       "       '$33K-$72K (Glassdoor est.)', '$37K-$63K (Glassdoor est.)',\n",
       "       '$67K-$119K (Glassdoor est.)', '$72K-$117K (Glassdoor est.)',\n",
       "       '$78K-$126K (Glassdoor est.)', '$116K-$194K (Glassdoor est.)',\n",
       "       '$83K-$133K (Glassdoor est.)', '$45K-$82K (Glassdoor est.)',\n",
       "       '$83K-$135K (Glassdoor est.)', '$70K-$122K (Glassdoor est.)',\n",
       "       '$70K-$132K (Glassdoor est.)', '$54K-$101K (Glassdoor est.)',\n",
       "       '$68K-$112K (Glassdoor est.)', '$42K-$74K (Glassdoor est.)',\n",
       "       '$95K-$161K (Glassdoor est.)', '$76K-$126K (Glassdoor est.)',\n",
       "       '$108K-$176K (Glassdoor est.)', '$130K-$208K (Glassdoor est.)',\n",
       "       '$37K-$68K (Glassdoor est.)', '$52K-$99K (Glassdoor est.)',\n",
       "       '$105K-$173K (Glassdoor est.)', '$71K-$134K (Glassdoor est.)',\n",
       "       '$39K-$82K (Glassdoor est.)', '$88K-$162K (Glassdoor est.)',\n",
       "       '$55K-$99K (Glassdoor est.)', '$67K-$117K (Glassdoor est.)',\n",
       "       '$92K-$150K (Glassdoor est.)', '$116K-$209K (Glassdoor est.)',\n",
       "       '$38K-$82K (Glassdoor est.)', 'Employer Provided Salary:$85K-$90K',\n",
       "       '$62K-$119K (Glassdoor est.)', '$84K-$136K (Glassdoor est.)',\n",
       "       '$52K-$89K (Glassdoor est.)', '$65K-$119K (Glassdoor est.)',\n",
       "       '$63K-$101K (Glassdoor est.)', '$127K-$202K (Glassdoor est.)',\n",
       "       '$31K-$57K (Glassdoor est.)', '$75K-$143K (Glassdoor est.)',\n",
       "       '$105K-$194K (Glassdoor est.)', '$45K-$86K (Glassdoor est.)',\n",
       "       '$95K-$154K (Glassdoor est.)', '$80K-$148K (Glassdoor est.)',\n",
       "       '$36K-$62K (Glassdoor est.)', '$50K-$92K (Glassdoor est.)',\n",
       "       '$67K-$135K (Glassdoor est.)', '$42K-$80K (Glassdoor est.)',\n",
       "       '$68K-$139K (Glassdoor est.)', '$34K-$92K (Glassdoor est.)',\n",
       "       '$54K-$71K (Glassdoor est.)', '$65K-$124K (Glassdoor est.)',\n",
       "       '$109K-$200K (Glassdoor est.)', '$61K-$113K (Glassdoor est.)',\n",
       "       '$43K-$86K (Glassdoor est.)', '$74K-$149K (Glassdoor est.)',\n",
       "       '$113K-$196K (Glassdoor est.)', '$97K-$160K (Glassdoor est.)',\n",
       "       '$24-$39 Per Hour(Glassdoor est.)', '$102K-$172K (Glassdoor est.)',\n",
       "       '$108K-$171K (Glassdoor est.)', '$76K-$142K (Glassdoor est.)',\n",
       "       '$202K-$306K (Glassdoor est.)', '$49K-$97K (Glassdoor est.)',\n",
       "       '$65K-$134K (Glassdoor est.)', '$32K-$59K (Glassdoor est.)',\n",
       "       '$87K-$158K (Glassdoor est.)', '$107K-$173K (Glassdoor est.)',\n",
       "       '$56K-$99K (Glassdoor est.)',\n",
       "       'Employer Provided Salary:$25-$28 Per Hour',\n",
       "       '$80K-$155K (Glassdoor est.)', '$43K-$98K (Glassdoor est.)',\n",
       "       '$45K-$78K (Glassdoor est.)', '$44K-$96K (Glassdoor est.)',\n",
       "       '$50K-$110K (Glassdoor est.)', '$61K-$119K (Glassdoor est.)',\n",
       "       'Employer Provided Salary:$100K-$140K',\n",
       "       '$56K-$91K (Glassdoor est.)', '$101K-$158K (Glassdoor est.)',\n",
       "       '$125K-$210K (Glassdoor est.)', '$43K-$77K (Glassdoor est.)',\n",
       "       '$139K-$221K (Glassdoor est.)', '$78K-$147K (Glassdoor est.)',\n",
       "       '$37K-$66K (Glassdoor est.)', '$38K-$64K (Glassdoor est.)',\n",
       "       '$43K-$82K (Glassdoor est.)', '$90K-$110K(Employer est.)',\n",
       "       '$93K-$151K (Glassdoor est.)', '$40K-$101K (Glassdoor est.)',\n",
       "       '$97K-$180K (Glassdoor est.)', '$81K-$134K (Glassdoor est.)',\n",
       "       '$84K-$157K (Glassdoor est.)', '$121K-$203K (Glassdoor est.)',\n",
       "       '$52K-$85K (Glassdoor est.)', '$81K-$140K (Glassdoor est.)',\n",
       "       '$83K-$148K (Glassdoor est.)', '$31K-$55K (Glassdoor est.)',\n",
       "       '$102K-$178K (Glassdoor est.)',\n",
       "       'Employer Provided Salary:$110K-$130K',\n",
       "       '$48K-$85K (Glassdoor est.)', '$66K-$123K (Glassdoor est.)',\n",
       "       '$92K-$146K (Glassdoor est.)', '$21-$29 Per Hour(Glassdoor est.)',\n",
       "       '$10-$17 Per Hour(Glassdoor est.)', '$150K-$239K (Glassdoor est.)',\n",
       "       '$52K-$91K (Glassdoor est.)', '$82K-$129K(Employer est.)',\n",
       "       '$47K-$101K (Glassdoor est.)', '$49K-$76K (Glassdoor est.)',\n",
       "       '$43K-$88K (Glassdoor est.)', '$124K-$199K (Glassdoor est.)',\n",
       "       '$97K-$181K (Glassdoor est.)', '$100K-$173K (Glassdoor est.)',\n",
       "       '$53K-$96K (Glassdoor est.)', '$65K-$96K (Glassdoor est.)',\n",
       "       '$75K-$127K (Glassdoor est.)', '$94K-$139K (Glassdoor est.)',\n",
       "       '$176K-$289K (Glassdoor est.)', '$92K-$149K (Glassdoor est.)',\n",
       "       '$118K-$188K (Glassdoor est.)', '$108K-$146K (Glassdoor est.)',\n",
       "       '$65K-$106K (Glassdoor est.)', '$55K-$98K (Glassdoor est.)',\n",
       "       '$94K-$162K (Glassdoor est.)', '$63K-$120K (Glassdoor est.)',\n",
       "       '$126K-$228K (Glassdoor est.)', '$80K-$134K (Glassdoor est.)',\n",
       "       '$85K-$142K (Glassdoor est.)', '$87K-$140K (Glassdoor est.)',\n",
       "       '$76K-$127K (Glassdoor est.)', '$54K-$92K (Glassdoor est.)',\n",
       "       '$61K-$100K (Glassdoor est.)', '$112K-$179K (Glassdoor est.)',\n",
       "       '$63K-$111K (Glassdoor est.)', '$75K-$126K (Glassdoor est.)',\n",
       "       '$110K-$184K (Glassdoor est.)', '$76K-$145K (Glassdoor est.)',\n",
       "       '$70K-$118K (Glassdoor est.)', '$94K-$153K (Glassdoor est.)',\n",
       "       '$150K-$180K (Glassdoor est.)', '$42K-$77K (Glassdoor est.)',\n",
       "       '$47K-$85K (Glassdoor est.)', '$62K-$112K (Glassdoor est.)',\n",
       "       '$64K-$108K (Glassdoor est.)', '$89K-$144K (Glassdoor est.)',\n",
       "       '$55K-$105K (Glassdoor est.)', '$135K-$211K (Glassdoor est.)',\n",
       "       '$57K-$80K (Glassdoor est.)', '$129K-$215K (Glassdoor est.)',\n",
       "       '$63K-$127K (Glassdoor est.)', '$50K-$89K (Glassdoor est.)',\n",
       "       '$71K-$124K (Glassdoor est.)', '$69K-$121K (Glassdoor est.)',\n",
       "       '$150K-$238K (Glassdoor est.)', '$77K-$132K (Glassdoor est.)',\n",
       "       '$59K-$112K (Glassdoor est.)', '$35K-$65K (Glassdoor est.)',\n",
       "       '$79K-$147K (Glassdoor est.)', '$119K-$187K (Glassdoor est.)',\n",
       "       '$90K-$157K (Glassdoor est.)', '$32K-$62K (Glassdoor est.)',\n",
       "       '$116K-$208K (Glassdoor est.)', '$102K-$165K (Glassdoor est.)',\n",
       "       '$91K-$159K (Glassdoor est.)', '$80K-$133K (Glassdoor est.)',\n",
       "       '$39K-$69K (Glassdoor est.)', '$27K-$48K (Glassdoor est.)',\n",
       "       '$36K-$71K (Glassdoor est.)', '$130K-$206K (Glassdoor est.)',\n",
       "       '$99K-$178K (Glassdoor est.)', '$86K-$137K (Glassdoor est.)',\n",
       "       '$37K-$100K (Glassdoor est.)', '$58K-$111K (Glassdoor est.)',\n",
       "       '$72K-$133K (Glassdoor est.)', '$61K-$126K (Glassdoor est.)',\n",
       "       '$95K-$160K (Glassdoor est.)', '$33K-$61K (Glassdoor est.)',\n",
       "       '$69K-$119K (Glassdoor est.)', '$67K-$127K (Glassdoor est.)',\n",
       "       '$66K-$117K (Glassdoor est.)', '$50K-$98K (Glassdoor est.)',\n",
       "       '$90K-$153K (Glassdoor est.)',\n",
       "       'Employer Provided Salary:$100K-$135K',\n",
       "       '$42K-$79K (Glassdoor est.)', '$84K-$153K (Glassdoor est.)',\n",
       "       '$44K-$73K (Glassdoor est.)', '$40K-$87K (Glassdoor est.)',\n",
       "       '$72K-$142K (Glassdoor est.)', '$74K-$137K (Glassdoor est.)',\n",
       "       '$57K-$109K (Glassdoor est.)', '$136K-$208K (Glassdoor est.)',\n",
       "       '$171K-$272K (Glassdoor est.)', '$65K-$126K (Glassdoor est.)',\n",
       "       '$118K-$228K (Glassdoor est.)', '$113K-$182K (Glassdoor est.)',\n",
       "       '$58K-$104K (Glassdoor est.)', '$58K-$108K (Glassdoor est.)',\n",
       "       '$81K-$161K (Glassdoor est.)', '$115K-$220K (Glassdoor est.)',\n",
       "       '$71K-$144K (Glassdoor est.)', '$32K-$57K (Glassdoor est.)',\n",
       "       '$79K-$136K (Glassdoor est.)', '$48K-$113K (Glassdoor est.)',\n",
       "       '$27-$47 Per Hour(Glassdoor est.)', '$68K-$125K (Glassdoor est.)',\n",
       "       '$39K-$67K (Glassdoor est.)', '$71K-$135K (Glassdoor est.)',\n",
       "       '$61K-$123K (Glassdoor est.)', '$87K-$141K (Glassdoor est.)',\n",
       "       '$71K-$121K (Glassdoor est.)', '$72K-$121K (Glassdoor est.)',\n",
       "       '$51K-$88K (Glassdoor est.)', '$101K-$141K (Glassdoor est.)',\n",
       "       '$79K-$127K (Glassdoor est.)', '$81K-$132K (Glassdoor est.)',\n",
       "       'Employer Provided Salary:$120K-$140K',\n",
       "       '$65K-$113K (Glassdoor est.)', '$59K-$125K (Glassdoor est.)',\n",
       "       '$80K-$142K (Glassdoor est.)', '$62K-$113K (Glassdoor est.)'],\n",
       "      dtype=object)"
      ]
     },
     "execution_count": 8,
     "metadata": {},
     "output_type": "execute_result"
    }
   ],
   "source": [
    "data['Salary Estimate'].unique()"
   ]
  },
  {
   "cell_type": "code",
   "execution_count": 9,
   "id": "cf693acc",
   "metadata": {
    "scrolled": true
   },
   "outputs": [
    {
     "data": {
      "text/plain": [
       "0       $53K-$91K \n",
       "1      $63K-$112K \n",
       "2       $80K-$90K \n",
       "3       $56K-$97K \n",
       "4      $86K-$143K \n",
       "          ...     \n",
       "950    $58K-$111K \n",
       "951    $72K-$133K \n",
       "952     $56K-$91K \n",
       "953    $95K-$160K \n",
       "955    $61K-$126K \n",
       "Name: Salary Estimate, Length: 742, dtype: object"
      ]
     },
     "execution_count": 9,
     "metadata": {},
     "output_type": "execute_result"
    }
   ],
   "source": [
    "# Removing the brackets\n",
    "data['Salary Estimate'] = data['Salary Estimate'].apply(lambda x:x.split('(')[0])\n",
    "data['Salary Estimate']"
   ]
  },
  {
   "cell_type": "code",
   "execution_count": 10,
   "id": "e591465b",
   "metadata": {
    "scrolled": true
   },
   "outputs": [
    {
     "data": {
      "text/plain": [
       "0       53-91 \n",
       "1      63-112 \n",
       "2       80-90 \n",
       "3       56-97 \n",
       "4      86-143 \n",
       "        ...   \n",
       "950    58-111 \n",
       "951    72-133 \n",
       "952     56-91 \n",
       "953    95-160 \n",
       "955    61-126 \n",
       "Name: Salary Estimate, Length: 742, dtype: object"
      ]
     },
     "execution_count": 10,
     "metadata": {},
     "output_type": "execute_result"
    }
   ],
   "source": [
    "# Removing the 'dollar' and 'K' signs:\n",
    "data['Salary Estimate'] = data['Salary Estimate'].apply(lambda x:x.replace('K','').replace('$',''))\n",
    "data['Salary Estimate']"
   ]
  },
  {
   "cell_type": "markdown",
   "id": "131996ab",
   "metadata": {},
   "source": [
    "Now we can see above that 'Salary Estimate' only contains integer(range) values-"
   ]
  },
  {
   "cell_type": "markdown",
   "id": "cf8ec8cb",
   "metadata": {},
   "source": [
    "### "
   ]
  },
  {
   "cell_type": "markdown",
   "id": "efda57e1",
   "metadata": {},
   "source": [
    "- 'Salary Estimate' column also contains some 'Employer Provided Salary' and 'Per Hour' values:"
   ]
  },
  {
   "cell_type": "code",
   "execution_count": 11,
   "id": "35b444ae",
   "metadata": {},
   "outputs": [],
   "source": [
    "# Creating a new columns\n",
    "data['Employer Provided Salary'] = data['Salary Estimate'].apply(lambda x: 1 if 'Employer Provided Salary:' in x else 0)\n",
    "data['houly'] = data['Salary Estimate'].apply(lambda x: 1 if 'Per Hour' in x else 0)"
   ]
  },
  {
   "cell_type": "code",
   "execution_count": 12,
   "id": "ff11cc3e",
   "metadata": {},
   "outputs": [],
   "source": [
    "data['Salary Estimate'] = data['Salary Estimate'].apply(lambda x:x.replace('Employer Provided Salary:','').replace('Per Hour',''))"
   ]
  },
  {
   "cell_type": "markdown",
   "id": "c77bab0b",
   "metadata": {},
   "source": [
    "### "
   ]
  },
  {
   "cell_type": "markdown",
   "id": "3fffcc8c",
   "metadata": {},
   "source": [
    "- Creation a new column as 'avg_salary' for getting one value out of range"
   ]
  },
  {
   "cell_type": "code",
   "execution_count": 13,
   "id": "a5f2a135",
   "metadata": {},
   "outputs": [],
   "source": [
    "data['min_salary'] = data['Salary Estimate'].apply(lambda x:x.split('-')[0])\n",
    "data['max_salary'] = data['Salary Estimate'].apply(lambda x:x.split('-')[1])"
   ]
  },
  {
   "cell_type": "code",
   "execution_count": 14,
   "id": "393588ae",
   "metadata": {},
   "outputs": [],
   "source": [
    "# data['min_salary'] = data['min_salary'].apply(lambda x:x.split(':')[0])\n",
    "# data['max_salary'] = data['Salary Estimate'].apply(lambda x:x.split(' ')[0])"
   ]
  },
  {
   "cell_type": "code",
   "execution_count": 15,
   "id": "1401a14e",
   "metadata": {
    "scrolled": false
   },
   "outputs": [],
   "source": [
    "data['min_salary'] = data['min_salary'].astype('int32')"
   ]
  },
  {
   "cell_type": "code",
   "execution_count": 16,
   "id": "ee7384ef",
   "metadata": {},
   "outputs": [],
   "source": [
    "data['max_salary'] = data['max_salary'].astype('int32')"
   ]
  },
  {
   "cell_type": "code",
   "execution_count": 17,
   "id": "22ecfd87",
   "metadata": {
    "scrolled": true
   },
   "outputs": [
    {
     "data": {
      "text/plain": [
       "0       72.0\n",
       "1       87.5\n",
       "2       85.0\n",
       "3       76.5\n",
       "4      114.5\n",
       "       ...  \n",
       "950     84.5\n",
       "951    102.5\n",
       "952     73.5\n",
       "953    127.5\n",
       "955     93.5\n",
       "Name: avg_salary, Length: 742, dtype: float64"
      ]
     },
     "execution_count": 17,
     "metadata": {},
     "output_type": "execute_result"
    }
   ],
   "source": [
    "data['avg_salary'] = (data.min_salary+data.max_salary)/2\n",
    "data['avg_salary']"
   ]
  },
  {
   "cell_type": "markdown",
   "id": "9a479546",
   "metadata": {},
   "source": [
    "### "
   ]
  },
  {
   "cell_type": "markdown",
   "id": "95f06a5f",
   "metadata": {},
   "source": [
    "- 'Company Name' column contains ratings ans '\\n' which is not neccesary"
   ]
  },
  {
   "cell_type": "code",
   "execution_count": 18,
   "id": "653cb76a",
   "metadata": {},
   "outputs": [
    {
     "data": {
      "text/plain": [
       "0                          Tecolote Research\\n3.8\n",
       "1      University of Maryland Medical System\\n3.4\n",
       "2                                    KnowBe4\\n4.8\n",
       "3                                       PNNL\\n3.8\n",
       "4                         Affinity Solutions\\n2.9\n",
       "                          ...                    \n",
       "950                                      GSK\\n3.9\n",
       "951                               Eventbrite\\n4.4\n",
       "952           Software Engineering Institute\\n2.6\n",
       "953                             Numeric, LLC\\n3.2\n",
       "955             Riverside Research Institute\\n3.6\n",
       "Name: Company Name, Length: 742, dtype: object"
      ]
     },
     "execution_count": 18,
     "metadata": {},
     "output_type": "execute_result"
    }
   ],
   "source": [
    "data['Company Name']"
   ]
  },
  {
   "cell_type": "code",
   "execution_count": 19,
   "id": "f4aeddc6",
   "metadata": {},
   "outputs": [
    {
     "data": {
      "text/plain": [
       "0                          Tecolote Research\n",
       "1      University of Maryland Medical System\n",
       "2                                    KnowBe4\n",
       "3                                       PNNL\n",
       "4                         Affinity Solutions\n",
       "                       ...                  \n",
       "950                                      GSK\n",
       "951                               Eventbrite\n",
       "952           Software Engineering Institute\n",
       "953                             Numeric, LLC\n",
       "955             Riverside Research Institute\n",
       "Name: company_txt, Length: 742, dtype: object"
      ]
     },
     "execution_count": 19,
     "metadata": {},
     "output_type": "execute_result"
    }
   ],
   "source": [
    "# company name text only(creating a new column)\n",
    "data['company_txt'] = data['Company Name'].apply(lambda x:x.split('\\n')[0])\n",
    "data['company_txt']"
   ]
  },
  {
   "cell_type": "markdown",
   "id": "9be84f2a",
   "metadata": {},
   "source": [
    "### "
   ]
  },
  {
   "cell_type": "markdown",
   "id": "e23ca6e6",
   "metadata": {},
   "source": [
    "- 'Location' contains city and the state part from which we need only state part:"
   ]
  },
  {
   "cell_type": "code",
   "execution_count": 20,
   "id": "963b3a23",
   "metadata": {},
   "outputs": [
    {
     "data": {
      "text/plain": [
       "0       NM\n",
       "1       MD\n",
       "2       FL\n",
       "3       WA\n",
       "4       NY\n",
       "      ... \n",
       "950     MA\n",
       "951     TN\n",
       "952     PA\n",
       "953     PA\n",
       "955     OH\n",
       "Name: State, Length: 742, dtype: object"
      ]
     },
     "execution_count": 20,
     "metadata": {},
     "output_type": "execute_result"
    }
   ],
   "source": [
    "#state field(Location)\n",
    "data['State'] = data['Location'].apply(lambda x:x.split(',')[1])\n",
    "data['State']"
   ]
  },
  {
   "cell_type": "code",
   "execution_count": 21,
   "id": "ef7e22a1",
   "metadata": {},
   "outputs": [
    {
     "data": {
      "text/plain": [
       "0      0\n",
       "1      0\n",
       "2      1\n",
       "3      1\n",
       "4      1\n",
       "      ..\n",
       "950    0\n",
       "951    0\n",
       "952    1\n",
       "953    0\n",
       "955    0\n",
       "Name: same_state, Length: 742, dtype: int64"
      ]
     },
     "execution_count": 21,
     "metadata": {},
     "output_type": "execute_result"
    }
   ],
   "source": [
    "# Finding a companies which have job location and headquaters at the same place\n",
    "data['same_state'] = data.apply(lambda x:1 if x.Location==x.Headquarters else 0,axis=1)\n",
    "data['same_state']"
   ]
  },
  {
   "cell_type": "markdown",
   "id": "65315702",
   "metadata": {},
   "source": [
    "### "
   ]
  },
  {
   "cell_type": "markdown",
   "id": "7fbfca8e",
   "metadata": {},
   "source": [
    "- Finding age of the company:"
   ]
  },
  {
   "cell_type": "code",
   "execution_count": 22,
   "id": "0fadf848",
   "metadata": {},
   "outputs": [],
   "source": [
    "#age of company\n",
    "data['age'] = data['Founded'].apply(lambda x:x if x<1 else 2022-x)"
   ]
  },
  {
   "cell_type": "markdown",
   "id": "f2d57865",
   "metadata": {},
   "source": [
    "### "
   ]
  },
  {
   "cell_type": "markdown",
   "id": "7617546e",
   "metadata": {},
   "source": [
    "- In the 'Job Description' we are trying to find some keywords like 'python', 'exel', etc..(so that we'll have better visualizations)"
   ]
  },
  {
   "cell_type": "code",
   "execution_count": 23,
   "id": "b55a19dd",
   "metadata": {},
   "outputs": [
    {
     "data": {
      "text/plain": [
       "1    392\n",
       "0    350\n",
       "Name: python_yn, dtype: int64"
      ]
     },
     "execution_count": 23,
     "metadata": {},
     "output_type": "execute_result"
    }
   ],
   "source": [
    "# job description parsing(python,exel,R,etc..)\n",
    "data['python_yn'] = data['Job Description'].apply(lambda x: 1 if 'python' in x.lower() else 0)\n",
    "data.python_yn.value_counts()"
   ]
  },
  {
   "cell_type": "code",
   "execution_count": 24,
   "id": "8b23ab96",
   "metadata": {},
   "outputs": [
    {
     "data": {
      "text/plain": [
       "0    741\n",
       "1      1\n",
       "Name: R_yn, dtype: int64"
      ]
     },
     "execution_count": 24,
     "metadata": {},
     "output_type": "execute_result"
    }
   ],
   "source": [
    "data['R_yn'] = data['Job Description'].apply(lambda x: 1 if 'r-studio' in x.lower() else 0)\n",
    "data.R_yn.value_counts()"
   ]
  },
  {
   "cell_type": "code",
   "execution_count": 25,
   "id": "e2a62d52",
   "metadata": {},
   "outputs": [
    {
     "data": {
      "text/plain": [
       "0    575\n",
       "1    167\n",
       "Name: spark_yn, dtype: int64"
      ]
     },
     "execution_count": 25,
     "metadata": {},
     "output_type": "execute_result"
    }
   ],
   "source": [
    "data['spark_yn'] = data['Job Description'].apply(lambda x: 1 if 'spark' in x.lower() else 0)\n",
    "data.spark_yn.value_counts()"
   ]
  },
  {
   "cell_type": "code",
   "execution_count": 26,
   "id": "a496f949",
   "metadata": {},
   "outputs": [
    {
     "data": {
      "text/plain": [
       "0    566\n",
       "1    176\n",
       "Name: aws_yn, dtype: int64"
      ]
     },
     "execution_count": 26,
     "metadata": {},
     "output_type": "execute_result"
    }
   ],
   "source": [
    "data['aws_yn'] = data['Job Description'].apply(lambda x: 1 if 'aws' in x.lower() else 0)\n",
    "data.aws_yn.value_counts()"
   ]
  },
  {
   "cell_type": "code",
   "execution_count": 27,
   "id": "f8c4baf7",
   "metadata": {},
   "outputs": [
    {
     "data": {
      "text/plain": [
       "0    742\n",
       "Name: exel_yn, dtype: int64"
      ]
     },
     "execution_count": 27,
     "metadata": {},
     "output_type": "execute_result"
    }
   ],
   "source": [
    "data['exel_yn'] = data['Job Description'].apply(lambda x: 1 if 'exel' in x.lower() else 0)\n",
    "data.exel_yn.value_counts()"
   ]
  },
  {
   "cell_type": "markdown",
   "id": "8ebb156d",
   "metadata": {},
   "source": [
    "From above we can see that the candidate who has python,r-studio,spark knowledge has higher chances"
   ]
  },
  {
   "cell_type": "markdown",
   "id": "cdba0584",
   "metadata": {},
   "source": [
    "### "
   ]
  },
  {
   "cell_type": "markdown",
   "id": "cf519685",
   "metadata": {},
   "source": [
    "- Dropping unnecessary columns"
   ]
  },
  {
   "cell_type": "code",
   "execution_count": 28,
   "id": "5a69a570",
   "metadata": {},
   "outputs": [],
   "source": [
    "data = data.drop(columns='Unnamed: 0',axis=1)"
   ]
  },
  {
   "cell_type": "markdown",
   "id": "4238fe4d",
   "metadata": {},
   "source": [
    "### "
   ]
  },
  {
   "cell_type": "markdown",
   "id": "11d35689",
   "metadata": {},
   "source": [
    "- All the changes we are making, we are exporting into new csv file:"
   ]
  },
  {
   "cell_type": "code",
   "execution_count": 29,
   "id": "fb1676b6",
   "metadata": {},
   "outputs": [],
   "source": [
    "data.to_csv('cleaned_salary.csv',index=False)"
   ]
  }
 ],
 "metadata": {
  "kernelspec": {
   "display_name": "Python 3 (ipykernel)",
   "language": "python",
   "name": "python3"
  },
  "language_info": {
   "codemirror_mode": {
    "name": "ipython",
    "version": 3
   },
   "file_extension": ".py",
   "mimetype": "text/x-python",
   "name": "python",
   "nbconvert_exporter": "python",
   "pygments_lexer": "ipython3",
   "version": "3.8.2"
  }
 },
 "nbformat": 4,
 "nbformat_minor": 5
}
